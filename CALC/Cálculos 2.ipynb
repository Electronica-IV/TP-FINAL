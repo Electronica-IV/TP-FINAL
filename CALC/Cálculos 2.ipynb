{
 "cells": [
  {
   "cell_type": "code",
   "execution_count": 2,
   "metadata": {},
   "outputs": [],
   "source": [
    "#Libraries\n",
    "import numpy as np\n",
    "import matplotlib.pyplot as plt\n",
    "import sympy as sym\n",
    "import math"
   ]
  },
  {
   "attachments": {},
   "cell_type": "markdown",
   "metadata": {},
   "source": [
    "# Datos de diseño"
   ]
  },
  {
   "cell_type": "code",
   "execution_count": 45,
   "metadata": {},
   "outputs": [],
   "source": [
    "# Requisitos y especificaciones\n",
    "Vo = np.array([112,16])\n",
    "Vd = 300\n",
    "AL = 4700e-9    #H/n**2\n",
    "Io = .5\n",
    "Fsw = 100e3/2"
   ]
  },
  {
   "cell_type": "code",
   "execution_count": 4,
   "metadata": {},
   "outputs": [
    {
     "name": "stdout",
     "output_type": "stream",
     "text": [
      "[25 28  4]\n",
      "[1.12 0.16]\n",
      "57\n"
     ]
    }
   ],
   "source": [
    "# Relaciones de vueltas: Opción 1\n",
    "N = np.array([25,28,4])\n",
    "NK = N[1:]/N[0]\n",
    "\n",
    "Dsw = 0.25\n",
    "DK = Dsw/(1-Dsw)\n",
    "N_total = N.sum()\n",
    "\n",
    "print(N)\n",
    "print(NK)\n",
    "print(N_total)"
   ]
  },
  {
   "cell_type": "code",
   "execution_count": 44,
   "metadata": {},
   "outputs": [
    {
     "name": "stdout",
     "output_type": "stream",
     "text": [
      "[25 14  2]\n",
      "[0.56 0.08]\n",
      "41\n"
     ]
    }
   ],
   "source": [
    "# Relaciones de vueltas: Opción 2\n",
    "N = np.array([25,14,2])\n",
    "NK = N[1:]/N[0]\n",
    "\n",
    "Dsw = 0.4\n",
    "DK = Dsw/(1-Dsw)\n",
    "N_total = N.sum()\n",
    "\n",
    "print(N)\n",
    "print(NK)\n",
    "print(N_total)"
   ]
  },
  {
   "cell_type": "code",
   "execution_count": 5,
   "metadata": {},
   "outputs": [
    {
     "name": "stdout",
     "output_type": "stream",
     "text": [
      "[300. 112.  16.]\n"
     ]
    }
   ],
   "source": [
    "# Tensiones:\n",
    "V = Vd/N[0]*N*DK\n",
    "V[0]= Vd\n",
    "print(V)"
   ]
  },
  {
   "attachments": {},
   "cell_type": "markdown",
   "metadata": {},
   "source": [
    "# VALORES DE INDUCTORES"
   ]
  },
  {
   "cell_type": "code",
   "execution_count": 6,
   "metadata": {},
   "outputs": [
    {
     "name": "stdout",
     "output_type": "stream",
     "text": [
      "[2.9375e-03 3.6848e-03 7.5200e-05]\n"
     ]
    }
   ],
   "source": [
    "#Escalamiento de vueltas\n",
    "K = 1\n",
    "N_L = N*K\n",
    "\n",
    "L = AL*N_L**2\n",
    "print(L)"
   ]
  },
  {
   "cell_type": "code",
   "execution_count": 7,
   "metadata": {},
   "outputs": [
    {
     "name": "stdout",
     "output_type": "stream",
     "text": [
      "0.0027906249999999997 0.000146875\n"
     ]
    }
   ],
   "source": [
    "K_dis = 0.05\n",
    "L_dis = K_dis * L[0]\n",
    "L_mag = (1-K_dis) * L[0]\n",
    "print(L_mag, L_dis)"
   ]
  },
  {
   "cell_type": "code",
   "execution_count": 8,
   "metadata": {},
   "outputs": [
    {
     "name": "stdout",
     "output_type": "stream",
     "text": [
      "400.0\n"
     ]
    }
   ],
   "source": [
    "V_sw_off = V[0] + (V[1:]/NK).max() # Sumo Vd y las tensiones reflejadas por los secundarios.\n",
    "print(V_sw_off)"
   ]
  },
  {
   "cell_type": "code",
   "execution_count": 46,
   "metadata": {},
   "outputs": [
    {
     "name": "stdout",
     "output_type": "stream",
     "text": [
      "1.001985815602837\n"
     ]
    }
   ],
   "source": [
    "dI1 = Vd/L[0]*Dsw/Fsw\n",
    "Ix2 = Io / (1-Dsw)\n",
    "Ix1 = Ix2*NK[0]\n",
    "\n",
    "Im1 = Ix1*Dsw\n",
    "\n",
    "Imax1 = Ix1 + dI1/2\n",
    "print(Imax1)"
   ]
  },
  {
   "attachments": {},
   "cell_type": "markdown",
   "metadata": {},
   "source": [
    "# CALCULO DE R_snubber y C_snubber"
   ]
  },
  {
   "cell_type": "code",
   "execution_count": 14,
   "metadata": {},
   "outputs": [
    {
     "name": "stdout",
     "output_type": "stream",
     "text": [
      "3.0720606776989763e-10 5425.24006366641 1.6666666666666669e-06\n"
     ]
    }
   ],
   "source": [
    "V_sw_max = 800\n",
    "\n",
    "\n",
    "Snub_C = L_dis*Imax1**2/(V_sw_max**2-V_sw_off**2)\n",
    "\n",
    "t_on = Dsw/Fsw\n",
    "\n",
    "Snub_R = t_on/3/Snub_C\n",
    "Snub_tau = Snub_R*Snub_C\n",
    "print(Snub_C, Snub_R, Snub_tau)"
   ]
  },
  {
   "cell_type": "code",
   "execution_count": 15,
   "metadata": {},
   "outputs": [
    {
     "name": "stdout",
     "output_type": "stream",
     "text": [
      "P media:  1.3179083907210465 W\n",
      "3tau:  4.653e-06 s\n",
      "ton:  5e-06 s\n"
     ]
    }
   ],
   "source": [
    "C = 330e-12\n",
    "R = 4.7e3\n",
    "tau = C*R\n",
    "t_on = Dsw/Fsw\n",
    "Tsw = 1/Fsw\n",
    "\n",
    "V0 = V_sw_off\n",
    "\n",
    "P = V0**2*C/(2*Tsw)*(1-math.e**(-2*t_on/tau))\n",
    "print(\"P media: \",P,'W')\n",
    "print(\"3tau: \",3*tau,\"s\")\n",
    "print(\"ton: \",t_on,\"s\")"
   ]
  },
  {
   "cell_type": "code",
   "execution_count": 16,
   "metadata": {},
   "outputs": [],
   "source": [
    "# Parámetros del núcleo\n",
    "B_sat = 200e-3  #T\n",
    "R = 1/AL\n",
    "A = 280e-6      #mm**2\n",
    "A_min = 351e-6 # mm**2"
   ]
  },
  {
   "cell_type": "code",
   "execution_count": 19,
   "metadata": {},
   "outputs": [
    {
     "name": "stdout",
     "output_type": "stream",
     "text": [
      "0.5903219460599445\n"
     ]
    }
   ],
   "source": [
    "# Parámetros de SwitchinG\n",
    "T_SW = 1/Fsw\n",
    "skin = 66/np.sqrt(Fsw)\n",
    "\n",
    "d_max = 2*skin\n",
    "print(d_max)"
   ]
  },
  {
   "attachments": {},
   "cell_type": "markdown",
   "metadata": {},
   "source": [
    "# Resolución de N1"
   ]
  },
  {
   "cell_type": "code",
   "execution_count": 26,
   "metadata": {},
   "outputs": [],
   "source": [
    "from sympy import Symbol\n",
    "from sympy.solvers import solve"
   ]
  },
  {
   "cell_type": "code",
   "execution_count": 47,
   "metadata": {},
   "outputs": [
    {
     "name": "stdout",
     "output_type": "stream",
     "text": [
      "0.380539222808331\n"
     ]
    }
   ],
   "source": [
    "t = Symbol('t')\n",
    "f = Vd/L[0]*(t-t_on/2)+Ix1\n",
    "Irms = math.sqrt(sym.integrate(f**2,(t,0,t_on))/Tsw)\n",
    "print(Irms)"
   ]
  },
  {
   "cell_type": "code",
   "execution_count": 40,
   "metadata": {},
   "outputs": [],
   "source": [
    "D =Dsw\n",
    "AL = 4700e-9    # H/n**2\n",
    "\n",
    "B_sat = 200e-3  #T\n",
    "R = 1/AL\n",
    "A = 280e-6      #mm**2\n",
    "A_min = 351e-6  # mm**2"
   ]
  },
  {
   "cell_type": "code",
   "execution_count": 50,
   "metadata": {},
   "outputs": [],
   "source": [
    "a0 = 0.5*Vd*D*T_SW/A_min\n",
    "a1 = B_sat\n",
    "a2 = Irms/R/A"
   ]
  },
  {
   "cell_type": "code",
   "execution_count": 51,
   "metadata": {},
   "outputs": [
    {
     "data": {
      "text/plain": [
       "[6.69088048597222, 26.4950920090128]"
      ]
     },
     "execution_count": 51,
     "metadata": {},
     "output_type": "execute_result"
    }
   ],
   "source": [
    "N_i = Symbol('N1')\n",
    "solve(a2*N_i**2-a1*N_i+a0)"
   ]
  },
  {
   "cell_type": "code",
   "execution_count": 59,
   "metadata": {},
   "outputs": [],
   "source": [
    "N1_range = [7,26]"
   ]
  },
  {
   "cell_type": "code",
   "execution_count": 58,
   "metadata": {},
   "outputs": [
    {
     "name": "stdout",
     "output_type": "stream",
     "text": [
      "Io: 0.5\n",
      "N1: 25\n",
      "f : 50000.0\n",
      "D : 0.25\n",
      "to : 5e-06\n",
      "f : 50000.0\n"
     ]
    }
   ],
   "source": [
    "print(\"Io:\",Io)\n",
    "print(\"N1:\",25)\n",
    "print(\"f :\",Fsw)\n",
    "print(\"D :\",Dsw)\n",
    "print(\"to :\",Dsw/Fsw)"
   ]
  },
  {
   "cell_type": "code",
   "execution_count": 63,
   "metadata": {},
   "outputs": [
    {
     "data": {
      "image/png": "[encoded data removed]",
      "text/plain": [
       "<Figure size 640x480 with 1 Axes>"
      ]
     },
     "metadata": {},
     "output_type": "display_data"
    }
   ],
   "source": [
    "nn = np.arange(0,50)\n",
    "zz = np.zeros(nn.size)\n",
    "bb = nn**2*Irms/R/A_min-nn*B_sat+0.5*Vd*D*T_SW/A_min\n",
    "\n",
    "plt.plot(nn, bb, nn, zz)\n",
    "plt.stem(25,bb[25])\n",
    "plt.show()"
   ]
  },
  {
   "attachments": {},
   "cell_type": "markdown",
   "metadata": {},
   "source": [
    "# Corrientes de Carga"
   ]
  },
  {
   "cell_type": "code",
   "execution_count": 20,
   "metadata": {},
   "outputs": [],
   "source": [
    "N1 = 25"
   ]
  },
  {
   "cell_type": "code",
   "execution_count": 66,
   "metadata": {},
   "outputs": [
    {
     "data": {
      "text/plain": [
       "1.001985815602837"
      ]
     },
     "execution_count": 66,
     "metadata": {},
     "output_type": "execute_result"
    }
   ],
   "source": [
    "Imax1"
   ]
  },
  {
   "cell_type": "code",
   "execution_count": 65,
   "metadata": {},
   "outputs": [
    {
     "name": "stdout",
     "output_type": "stream",
     "text": [
      "0.2736955519807428\n",
      "0.5903219460599445\n"
     ]
    }
   ],
   "source": [
    "s_max = skin**2*np.pi\n",
    "print(s_max)    # area maxima de seccion de cada hilo de cobre\n",
    "print(d_max)   # diametro maximo del cobre conductor "
   ]
  },
  {
   "cell_type": "code",
   "execution_count": 23,
   "metadata": {},
   "outputs": [
    {
     "data": {
      "text/plain": [
       "0.6393965803737761"
      ]
     },
     "execution_count": 23,
     "metadata": {},
     "output_type": "execute_result"
    }
   ],
   "source": [
    "I_DC_max = 0.35\n",
    "J = 4\n",
    "I_DC_max/J/s_max"
   ]
  },
  {
   "attachments": {},
   "cell_type": "markdown",
   "metadata": {},
   "source": [
    "# Valores Seleccionados"
   ]
  },
  {
   "cell_type": "code",
   "execution_count": 24,
   "metadata": {},
   "outputs": [],
   "source": [
    "N_2vN_1 = np.array([0.48, 0.16])"
   ]
  },
  {
   "cell_type": "code",
   "execution_count": 25,
   "metadata": {},
   "outputs": [],
   "source": [
    "N1 = 25\n",
    "N2 = N1*N_2vN_1\n",
    "\n",
    "I_1max = 0.34   # A\n",
    "d_cu = 0.33\n",
    "s_cu = (d_cu/2)**2*np.pi\n",
    "\n",
    "J1 = I_1max/s_cu"
   ]
  },
  {
   "cell_type": "code",
   "execution_count": 26,
   "metadata": {},
   "outputs": [
    {
     "name": "stdout",
     "output_type": "stream",
     "text": [
      "[0.70833333 2.125     ]\n",
      "[ 8.28170809 24.84512427]\n",
      "[2.07042702 6.21128107]\n"
     ]
    }
   ],
   "source": [
    "I_2max = I_1max*N1/N2\n",
    "print(I_2max)\n",
    "\n",
    "J2 = I_2max/s_cu\n",
    "print(J2)\n",
    "\n",
    "n2_cu = J2/4\n",
    "print(n2_cu)"
   ]
  },
  {
   "attachments": {},
   "cell_type": "markdown",
   "metadata": {},
   "source": [
    "# Considerando el secundario de 16 V con solamente el límite del pwm"
   ]
  },
  {
   "cell_type": "code",
   "execution_count": 27,
   "metadata": {},
   "outputs": [
    {
     "name": "stdout",
     "output_type": "stream",
     "text": [
      "5.845911591988808\n",
      "1.461477897997202\n"
     ]
    }
   ],
   "source": [
    "I_pwm = 0.5\n",
    "J = I_pwm/s_cu\n",
    "print(J)\n",
    "\n",
    "n_pwm = I_pwm/4/s_cu\n",
    "print(n_pwm)"
   ]
  }
 ],
 "metadata": {
  "kernelspec": {
   "display_name": "Python 3",
   "language": "python",
   "name": "python3"
  },
  "language_info": {
   "codemirror_mode": {
    "name": "ipython",
    "version": 3
   },
   "file_extension": ".py",
   "mimetype": "text/x-python",
   "name": "python",
   "nbconvert_exporter": "python",
   "pygments_lexer": "ipython3",
   "version": "3.10.11"
  },
  "orig_nbformat": 4
 },
 "nbformat": 4,
 "nbformat_minor": 2
}
