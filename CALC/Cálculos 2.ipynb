{
 "cells": [
  {
   "cell_type": "code",
   "execution_count": 2,
   "metadata": {},
   "outputs": [],
   "source": [
    "#Libraries\n",
    "import numpy as np\n",
    "import matplotlib.pyplot as plt\n",
    "import sympy as sym\n",
    "import math"
   ]
  },
  {
   "attachments": {},
   "cell_type": "markdown",
   "metadata": {},
   "source": [
    "# Datos de diseño"
   ]
  },
  {
   "cell_type": "code",
   "execution_count": 3,
   "metadata": {},
   "outputs": [],
   "source": [
    "# Requisitos y especificaciones\n",
    "Vo = np.array([112,16])\n",
    "Vd = 300\n",
    "AL = 4700e-9    #H/n**2\n",
    "Io = .5\n",
    "Fsw = 100e3/2"
   ]
  },
  {
   "cell_type": "code",
   "execution_count": 4,
   "metadata": {},
   "outputs": [
    {
     "name": "stdout",
     "output_type": "stream",
     "text": [
      "[25 28  4]\n",
      "[1.12 0.16]\n",
      "57\n"
     ]
    }
   ],
   "source": [
    "# Relaciones de vueltas: Opción 1\n",
    "N = np.array([25,28,4])\n",
    "NK = N[1:]/N[0]\n",
    "\n",
    "Dsw = 0.25\n",
    "DK = Dsw/(1-Dsw)\n",
    "N_total = N.sum()\n",
    "\n",
    "print(N)\n",
    "print(NK)\n",
    "print(N_total)"
   ]
  },
  {
   "cell_type": "code",
   "execution_count": 5,
   "metadata": {},
   "outputs": [
    {
     "name": "stdout",
     "output_type": "stream",
     "text": [
      "[25 14  2]\n",
      "[0.56 0.08]\n",
      "41\n"
     ]
    }
   ],
   "source": [
    "# Relaciones de vueltas: Opción 2\n",
    "N = np.array([25,14,2])\n",
    "NK = N[1:]/N[0]\n",
    "\n",
    "Dsw = 0.4\n",
    "DK = Dsw/(1-Dsw)\n",
    "N_total = N.sum()\n",
    "\n",
    "print(N)\n",
    "print(NK)\n",
    "print(N_total)"
   ]
  },
  {
   "cell_type": "code",
   "execution_count": 5,
   "metadata": {},
   "outputs": [
    {
     "name": "stdout",
     "output_type": "stream",
     "text": [
      "[300. 112.  16.]\n"
     ]
    }
   ],
   "source": [
    "# Tensiones:\n",
    "V = Vd/N[0]*N*DK\n",
    "V[0]= Vd\n",
    "print(V)"
   ]
  },
  {
   "attachments": {},
   "cell_type": "markdown",
   "metadata": {},
   "source": [
    "# VALORES DE INDUCTORES"
   ]
  },
  {
   "cell_type": "code",
   "execution_count": 6,
   "metadata": {},
   "outputs": [
    {
     "name": "stdout",
     "output_type": "stream",
     "text": [
      "[2.9375e-03 3.6848e-03 7.5200e-05]\n"
     ]
    }
   ],
   "source": [
    "#Escalamiento de vueltas\n",
    "K = 1\n",
    "N_L = N*K\n",
    "\n",
    "L = AL*N_L**2\n",
    "print(L)"
   ]
  },
  {
   "cell_type": "code",
   "execution_count": 8,
   "metadata": {},
   "outputs": [
    {
     "name": "stdout",
     "output_type": "stream",
     "text": [
      "0.0027906249999999997 0.000146875\n"
     ]
    }
   ],
   "source": [
    "K_dis = 0.05\n",
    "L_dis = K_dis * L[0]\n",
    "L_mag = (1-K_dis) * L[0]\n",
    "print(L_mag, L_dis)"
   ]
  },
  {
   "cell_type": "code",
   "execution_count": 9,
   "metadata": {},
   "outputs": [
    {
     "name": "stdout",
     "output_type": "stream",
     "text": [
      "500.0\n"
     ]
    }
   ],
   "source": [
    "V_sw_off = V[0] + (V[1:]/NK).max() # Sumo Vd y las tensiones reflejadas por los secundarios.\n",
    "print(V_sw_off)"
   ]
  },
  {
   "cell_type": "code",
   "execution_count": 39,
   "metadata": {},
   "outputs": [
    {
     "name": "stdout",
     "output_type": "stream",
     "text": [
      "I2_peak:  0.9375452308583008\n",
      "0.875177304964539\n"
     ]
    }
   ],
   "source": [
    "dI1 = Vd/L[0]*Dsw/Fsw\n",
    "delta_I2 = 112*((1-Dsw)/Fsw)/L[1]\n",
    "\n",
    "Ix2 = Io / (1-Dsw)\n",
    "Ix1 = Ix2*NK[0]\n",
    "\n",
    "I2_peak = Ix2+delta_I2/2\n",
    "print(\"I2_peak: \",I2_peak)\n",
    "\n",
    "Im1 = Ix1*Dsw\n",
    "\n",
    "Imax1 = Ix1 + dI1/2\n",
    "print(Imax1)"
   ]
  },
  {
   "attachments": {},
   "cell_type": "markdown",
   "metadata": {},
   "source": [
    "# CALCULO DE R_snubber y C_snubber"
   ]
  },
  {
   "cell_type": "code",
   "execution_count": 11,
   "metadata": {},
   "outputs": [
    {
     "name": "stdout",
     "output_type": "stream",
     "text": [
      "2.8845320361277813e-10 9244.71156245649 2.6666666666666664e-06\n"
     ]
    }
   ],
   "source": [
    "V_sw_max = 800\n",
    "\n",
    "\n",
    "Snub_C = L_dis*Imax1**2/(V_sw_max**2-V_sw_off**2)\n",
    "\n",
    "t_on = Dsw/Fsw\n",
    "\n",
    "Snub_R = t_on/3/Snub_C\n",
    "Snub_tau = Snub_R*Snub_C\n",
    "print(Snub_C, Snub_R, Snub_tau)"
   ]
  },
  {
   "cell_type": "code",
   "execution_count": 12,
   "metadata": {},
   "outputs": [
    {
     "name": "stdout",
     "output_type": "stream",
     "text": [
      "P media:  2.062431727695424 W\n",
      "3tau:  4.653e-06 s\n",
      "ton:  8e-06 s\n"
     ]
    }
   ],
   "source": [
    "C = 330e-12\n",
    "R = 4.7e3\n",
    "tau = C*R\n",
    "t_on = Dsw/Fsw\n",
    "Tsw = 1/Fsw\n",
    "\n",
    "V0 = V_sw_off\n",
    "\n",
    "P = V0**2*C/(2*Tsw)*(1-math.e**(-2*t_on/tau))\n",
    "print(\"P media: \",P,'W')\n",
    "print(\"3tau: \",3*tau,\"s\")\n",
    "print(\"ton: \",t_on,\"s\")"
   ]
  },
  {
   "cell_type": "code",
   "execution_count": 13,
   "metadata": {},
   "outputs": [],
   "source": [
    "# Parámetros del núcleo\n",
    "B_sat = 200e-3  #T\n",
    "R = 1/AL\n",
    "A = 280e-6      #mm**2\n",
    "A_min = 351e-6 # mm**2"
   ]
  },
  {
   "cell_type": "code",
   "execution_count": 14,
   "metadata": {},
   "outputs": [
    {
     "name": "stdout",
     "output_type": "stream",
     "text": [
      "0.5903219460599445\n"
     ]
    }
   ],
   "source": [
    "# Parámetros de SwitchinG\n",
    "T_SW = 1/Fsw\n",
    "skin = 66/np.sqrt(Fsw)\n",
    "\n",
    "d_max = 2*skin\n",
    "print(d_max)"
   ]
  },
  {
   "attachments": {},
   "cell_type": "markdown",
   "metadata": {},
   "source": [
    "# Resolución de N1"
   ]
  },
  {
   "cell_type": "code",
   "execution_count": 15,
   "metadata": {},
   "outputs": [],
   "source": [
    "from sympy import Symbol\n",
    "from sympy.solvers import solve"
   ]
  },
  {
   "cell_type": "code",
   "execution_count": 16,
   "metadata": {},
   "outputs": [
    {
     "name": "stdout",
     "output_type": "stream",
     "text": [
      "0.3306991129785238\n"
     ]
    }
   ],
   "source": [
    "t = Symbol('t')\n",
    "f = Vd/L[0]*(t-t_on/2)+Ix1\n",
    "Irms = math.sqrt(sym.integrate(f**2,(t,0,t_on))/Tsw)\n",
    "print(Irms)"
   ]
  },
  {
   "cell_type": "code",
   "execution_count": 17,
   "metadata": {},
   "outputs": [],
   "source": [
    "D =Dsw\n",
    "AL = 4700e-9    # H/n**2\n",
    "\n",
    "B_sat = 200e-3  #T\n",
    "R = 1/AL\n",
    "A = 280e-6      #mm**2\n",
    "A_min = 351e-6  # mm**2"
   ]
  },
  {
   "cell_type": "code",
   "execution_count": 18,
   "metadata": {},
   "outputs": [],
   "source": [
    "a0 = 0.5*Vd*D*T_SW/A_min\n",
    "a1 = B_sat\n",
    "a2 = Irms/R/A"
   ]
  },
  {
   "cell_type": "code",
   "execution_count": 19,
   "metadata": {},
   "outputs": [
    {
     "data": {
      "text/plain": [
       "[18.0147045296052 - 17.0692048747591*I, 18.0147045296052 + 17.0692048747591*I]"
      ]
     },
     "execution_count": 19,
     "metadata": {},
     "output_type": "execute_result"
    }
   ],
   "source": [
    "N_i = Symbol('N1')\n",
    "solve(a2*N_i**2-a1*N_i+a0)"
   ]
  },
  {
   "cell_type": "code",
   "execution_count": 20,
   "metadata": {},
   "outputs": [],
   "source": [
    "N1_range = [7,26]"
   ]
  },
  {
   "cell_type": "code",
   "execution_count": 21,
   "metadata": {},
   "outputs": [
    {
     "name": "stdout",
     "output_type": "stream",
     "text": [
      "Io: 0.5\n",
      "N1: 25\n",
      "f : 50000.0\n",
      "D : 0.4\n",
      "to : 8e-06\n"
     ]
    }
   ],
   "source": [
    "print(\"Io:\",Io)\n",
    "print(\"N1:\",25)\n",
    "print(\"f :\",Fsw)\n",
    "print(\"D :\",Dsw)\n",
    "print(\"to :\",Dsw/Fsw)"
   ]
  },
  {
   "cell_type": "code",
   "execution_count": 24,
   "metadata": {},
   "outputs": [
    {
     "ename": "TypeError",
     "evalue": "'int' object is not iterable",
     "output_type": "error",
     "traceback": [
      "\u001b[1;31m---------------------------------------------------------------------------\u001b[0m",
      "\u001b[1;31mTypeError\u001b[0m                                 Traceback (most recent call last)",
      "\u001b[1;32m<ipython-input-24-c96e12852ec9>\u001b[0m in \u001b[0;36m<module>\u001b[1;34m\u001b[0m\n\u001b[0;32m      4\u001b[0m \u001b[1;33m\u001b[0m\u001b[0m\n\u001b[0;32m      5\u001b[0m \u001b[0mplt\u001b[0m\u001b[1;33m.\u001b[0m\u001b[0mplot\u001b[0m\u001b[1;33m(\u001b[0m\u001b[0mnn\u001b[0m\u001b[1;33m,\u001b[0m \u001b[0mbb\u001b[0m\u001b[1;33m,\u001b[0m \u001b[0mnn\u001b[0m\u001b[1;33m,\u001b[0m \u001b[0mzz\u001b[0m\u001b[1;33m)\u001b[0m\u001b[1;33m\u001b[0m\u001b[1;33m\u001b[0m\u001b[0m\n\u001b[1;32m----> 6\u001b[1;33m \u001b[0mplt\u001b[0m\u001b[1;33m.\u001b[0m\u001b[0mstem\u001b[0m\u001b[1;33m(\u001b[0m\u001b[1;36m25\u001b[0m\u001b[1;33m,\u001b[0m\u001b[0mbb\u001b[0m\u001b[1;33m[\u001b[0m\u001b[1;36m25\u001b[0m\u001b[1;33m]\u001b[0m\u001b[1;33m)\u001b[0m\u001b[1;33m\u001b[0m\u001b[1;33m\u001b[0m\u001b[0m\n\u001b[0m\u001b[0;32m      7\u001b[0m \u001b[0mplt\u001b[0m\u001b[1;33m.\u001b[0m\u001b[0mshow\u001b[0m\u001b[1;33m(\u001b[0m\u001b[1;33m)\u001b[0m\u001b[1;33m\u001b[0m\u001b[1;33m\u001b[0m\u001b[0m\n",
      "\u001b[1;32mc:\\MIS programas\\python\\lib\\site-packages\\matplotlib\\pyplot.py\u001b[0m in \u001b[0;36mstem\u001b[1;34m(linefmt, markerfmt, basefmt, bottom, label, use_line_collection, data, *args)\u001b[0m\n\u001b[0;32m   2938\u001b[0m         \u001b[1;33m*\u001b[0m\u001b[0margs\u001b[0m\u001b[1;33m,\u001b[0m \u001b[0mlinefmt\u001b[0m\u001b[1;33m=\u001b[0m\u001b[1;32mNone\u001b[0m\u001b[1;33m,\u001b[0m \u001b[0mmarkerfmt\u001b[0m\u001b[1;33m=\u001b[0m\u001b[1;32mNone\u001b[0m\u001b[1;33m,\u001b[0m \u001b[0mbasefmt\u001b[0m\u001b[1;33m=\u001b[0m\u001b[1;32mNone\u001b[0m\u001b[1;33m,\u001b[0m \u001b[0mbottom\u001b[0m\u001b[1;33m=\u001b[0m\u001b[1;36m0\u001b[0m\u001b[1;33m,\u001b[0m\u001b[1;33m\u001b[0m\u001b[1;33m\u001b[0m\u001b[0m\n\u001b[0;32m   2939\u001b[0m         label=None, use_line_collection=True, data=None):\n\u001b[1;32m-> 2940\u001b[1;33m     return gca().stem(\n\u001b[0m\u001b[0;32m   2941\u001b[0m         \u001b[1;33m*\u001b[0m\u001b[0margs\u001b[0m\u001b[1;33m,\u001b[0m \u001b[0mlinefmt\u001b[0m\u001b[1;33m=\u001b[0m\u001b[0mlinefmt\u001b[0m\u001b[1;33m,\u001b[0m \u001b[0mmarkerfmt\u001b[0m\u001b[1;33m=\u001b[0m\u001b[0mmarkerfmt\u001b[0m\u001b[1;33m,\u001b[0m \u001b[0mbasefmt\u001b[0m\u001b[1;33m=\u001b[0m\u001b[0mbasefmt\u001b[0m\u001b[1;33m,\u001b[0m\u001b[1;33m\u001b[0m\u001b[1;33m\u001b[0m\u001b[0m\n\u001b[0;32m   2942\u001b[0m         \u001b[0mbottom\u001b[0m\u001b[1;33m=\u001b[0m\u001b[0mbottom\u001b[0m\u001b[1;33m,\u001b[0m \u001b[0mlabel\u001b[0m\u001b[1;33m=\u001b[0m\u001b[0mlabel\u001b[0m\u001b[1;33m,\u001b[0m\u001b[1;33m\u001b[0m\u001b[1;33m\u001b[0m\u001b[0m\n",
      "\u001b[1;32mc:\\MIS programas\\python\\lib\\site-packages\\matplotlib\\__init__.py\u001b[0m in \u001b[0;36minner\u001b[1;34m(ax, data, *args, **kwargs)\u001b[0m\n\u001b[0;32m   1436\u001b[0m     \u001b[1;32mdef\u001b[0m \u001b[0minner\u001b[0m\u001b[1;33m(\u001b[0m\u001b[0max\u001b[0m\u001b[1;33m,\u001b[0m \u001b[1;33m*\u001b[0m\u001b[0margs\u001b[0m\u001b[1;33m,\u001b[0m \u001b[0mdata\u001b[0m\u001b[1;33m=\u001b[0m\u001b[1;32mNone\u001b[0m\u001b[1;33m,\u001b[0m \u001b[1;33m**\u001b[0m\u001b[0mkwargs\u001b[0m\u001b[1;33m)\u001b[0m\u001b[1;33m:\u001b[0m\u001b[1;33m\u001b[0m\u001b[1;33m\u001b[0m\u001b[0m\n\u001b[0;32m   1437\u001b[0m         \u001b[1;32mif\u001b[0m \u001b[0mdata\u001b[0m \u001b[1;32mis\u001b[0m \u001b[1;32mNone\u001b[0m\u001b[1;33m:\u001b[0m\u001b[1;33m\u001b[0m\u001b[1;33m\u001b[0m\u001b[0m\n\u001b[1;32m-> 1438\u001b[1;33m             \u001b[1;32mreturn\u001b[0m \u001b[0mfunc\u001b[0m\u001b[1;33m(\u001b[0m\u001b[0max\u001b[0m\u001b[1;33m,\u001b[0m \u001b[1;33m*\u001b[0m\u001b[0mmap\u001b[0m\u001b[1;33m(\u001b[0m\u001b[0msanitize_sequence\u001b[0m\u001b[1;33m,\u001b[0m \u001b[0margs\u001b[0m\u001b[1;33m)\u001b[0m\u001b[1;33m,\u001b[0m \u001b[1;33m**\u001b[0m\u001b[0mkwargs\u001b[0m\u001b[1;33m)\u001b[0m\u001b[1;33m\u001b[0m\u001b[1;33m\u001b[0m\u001b[0m\n\u001b[0m\u001b[0;32m   1439\u001b[0m \u001b[1;33m\u001b[0m\u001b[0m\n\u001b[0;32m   1440\u001b[0m         \u001b[0mbound\u001b[0m \u001b[1;33m=\u001b[0m \u001b[0mnew_sig\u001b[0m\u001b[1;33m.\u001b[0m\u001b[0mbind\u001b[0m\u001b[1;33m(\u001b[0m\u001b[0max\u001b[0m\u001b[1;33m,\u001b[0m \u001b[1;33m*\u001b[0m\u001b[0margs\u001b[0m\u001b[1;33m,\u001b[0m \u001b[1;33m**\u001b[0m\u001b[0mkwargs\u001b[0m\u001b[1;33m)\u001b[0m\u001b[1;33m\u001b[0m\u001b[1;33m\u001b[0m\u001b[0m\n",
      "\u001b[1;32mc:\\MIS programas\\python\\lib\\site-packages\\matplotlib\\axes\\_axes.py\u001b[0m in \u001b[0;36mstem\u001b[1;34m(self, linefmt, markerfmt, basefmt, bottom, label, use_line_collection, *args)\u001b[0m\n\u001b[0;32m   2850\u001b[0m         \u001b[1;31m# New behaviour in 3.1 is to use a LineCollection for the stemlines\u001b[0m\u001b[1;33m\u001b[0m\u001b[1;33m\u001b[0m\u001b[1;33m\u001b[0m\u001b[0m\n\u001b[0;32m   2851\u001b[0m         \u001b[1;32mif\u001b[0m \u001b[0muse_line_collection\u001b[0m\u001b[1;33m:\u001b[0m\u001b[1;33m\u001b[0m\u001b[1;33m\u001b[0m\u001b[0m\n\u001b[1;32m-> 2852\u001b[1;33m             \u001b[0mstemlines\u001b[0m \u001b[1;33m=\u001b[0m \u001b[1;33m[\u001b[0m\u001b[1;33m(\u001b[0m\u001b[1;33m(\u001b[0m\u001b[0mxi\u001b[0m\u001b[1;33m,\u001b[0m \u001b[0mbottom\u001b[0m\u001b[1;33m)\u001b[0m\u001b[1;33m,\u001b[0m \u001b[1;33m(\u001b[0m\u001b[0mxi\u001b[0m\u001b[1;33m,\u001b[0m \u001b[0myi\u001b[0m\u001b[1;33m)\u001b[0m\u001b[1;33m)\u001b[0m \u001b[1;32mfor\u001b[0m \u001b[0mxi\u001b[0m\u001b[1;33m,\u001b[0m \u001b[0myi\u001b[0m \u001b[1;32min\u001b[0m \u001b[0mzip\u001b[0m\u001b[1;33m(\u001b[0m\u001b[0mx\u001b[0m\u001b[1;33m,\u001b[0m \u001b[0my\u001b[0m\u001b[1;33m)\u001b[0m\u001b[1;33m]\u001b[0m\u001b[1;33m\u001b[0m\u001b[1;33m\u001b[0m\u001b[0m\n\u001b[0m\u001b[0;32m   2853\u001b[0m             \u001b[1;32mif\u001b[0m \u001b[0mlinestyle\u001b[0m \u001b[1;32mis\u001b[0m \u001b[1;32mNone\u001b[0m\u001b[1;33m:\u001b[0m\u001b[1;33m\u001b[0m\u001b[1;33m\u001b[0m\u001b[0m\n\u001b[0;32m   2854\u001b[0m                 \u001b[0mlinestyle\u001b[0m \u001b[1;33m=\u001b[0m \u001b[0mrcParams\u001b[0m\u001b[1;33m[\u001b[0m\u001b[1;34m'lines.linestyle'\u001b[0m\u001b[1;33m]\u001b[0m\u001b[1;33m\u001b[0m\u001b[1;33m\u001b[0m\u001b[0m\n",
      "\u001b[1;31mTypeError\u001b[0m: 'int' object is not iterable"
     ]
    },
    {
     "data": {
      "image/png": "[encoded data removed]",
      "text/plain": [
       "<Figure size 432x288 with 1 Axes>"
      ]
     },
     "metadata": {
      "needs_background": "light"
     },
     "output_type": "display_data"
    }
   ],
   "source": [
    "nn = np.arange(0,50)\n",
    "zz = np.zeros(nn.size)\n",
    "bb = nn**2*Irms/R/A_min-nn*B_sat+0.5*Vd*D*T_SW/A_min\n",
    "\n",
    "plt.plot(nn, bb, nn, zz)\n",
    "plt.stem(25,bb[25])\n",
    "plt.show()"
   ]
  },
  {
   "attachments": {},
   "cell_type": "markdown",
   "metadata": {},
   "source": [
    "# Corrientes de Carga"
   ]
  },
  {
   "cell_type": "code",
   "execution_count": 25,
   "metadata": {},
   "outputs": [],
   "source": [
    "N1 = 25"
   ]
  },
  {
   "cell_type": "code",
   "execution_count": 26,
   "metadata": {},
   "outputs": [
    {
     "data": {
      "text/plain": [
       "0.875177304964539"
      ]
     },
     "execution_count": 26,
     "metadata": {},
     "output_type": "execute_result"
    }
   ],
   "source": [
    "Imax1"
   ]
  },
  {
   "cell_type": "code",
   "execution_count": 27,
   "metadata": {},
   "outputs": [
    {
     "name": "stdout",
     "output_type": "stream",
     "text": [
      "0.2736955519807428\n",
      "0.5903219460599445\n"
     ]
    }
   ],
   "source": [
    "s_max = skin**2*np.pi\n",
    "print(s_max)    # area maxima de seccion de cada hilo de cobre\n",
    "print(d_max)   # diametro maximo del cobre conductor "
   ]
  },
  {
   "cell_type": "code",
   "execution_count": 28,
   "metadata": {},
   "outputs": [
    {
     "data": {
      "text/plain": [
       "0.319698290186888"
      ]
     },
     "execution_count": 28,
     "metadata": {},
     "output_type": "execute_result"
    }
   ],
   "source": [
    "I_DC_max = 0.35\n",
    "J = 4\n",
    "I_DC_max/J/s_max"
   ]
  },
  {
   "attachments": {},
   "cell_type": "markdown",
   "metadata": {},
   "source": [
    "# Valores Seleccionados"
   ]
  },
  {
   "cell_type": "code",
   "execution_count": 29,
   "metadata": {},
   "outputs": [],
   "source": [
    "N_2vN_1 = np.array([0.48, 0.16])"
   ]
  },
  {
   "cell_type": "code",
   "execution_count": 30,
   "metadata": {},
   "outputs": [],
   "source": [
    "N1 = 25\n",
    "N2 = N1*N_2vN_1\n",
    "\n",
    "I_1max = 0.34   # A\n",
    "d_cu = 0.33\n",
    "s_cu = (d_cu/2)**2*np.pi\n",
    "\n",
    "J1 = I_1max/s_cu"
   ]
  },
  {
   "cell_type": "code",
   "execution_count": 36,
   "metadata": {},
   "outputs": [
    {
     "name": "stdout",
     "output_type": "stream",
     "text": [
      "[0.70833333 2.125     ]\n",
      "[ 8.28170809 24.84512427]\n",
      "[2.07042702 6.21128107]\n",
      "[3.96495513 5.3816218 ]\n"
     ]
    }
   ],
   "source": [
    "I_2max = I_1max*N1/N2\n",
    "print(I_2max)\n",
    "\n",
    "J2 = I_2max/s_cu\n",
    "print(J2)\n",
    "\n",
    "n2_cu = J2/4\n",
    "print(n2_cu)\n",
    "\n",
    "\n"
   ]
  },
  {
   "attachments": {},
   "cell_type": "markdown",
   "metadata": {},
   "source": [
    "# Considerando el secundario de 16 V con solamente el límite del pwm"
   ]
  },
  {
   "cell_type": "code",
   "execution_count": 27,
   "metadata": {},
   "outputs": [
    {
     "name": "stdout",
     "output_type": "stream",
     "text": [
      "5.845911591988808\n",
      "1.461477897997202\n"
     ]
    }
   ],
   "source": [
    "I_pwm = 0.5\n",
    "J = I_pwm/s_cu\n",
    "print(J)\n",
    "\n",
    "n_pwm = I_pwm/4/s_cu\n",
    "print(n_pwm)"
   ]
  }
 ],
 "metadata": {
  "kernelspec": {
   "display_name": "Python 3",
   "language": "python",
   "name": "python3"
  },
  "language_info": {
   "codemirror_mode": {
    "name": "ipython",
    "version": 3
   },
   "file_extension": ".py",
   "mimetype": "text/x-python",
   "name": "python",
   "nbconvert_exporter": "python",
   "pygments_lexer": "ipython3",
   "version": "3.8.5"
  },
  "orig_nbformat": 4
 },
 "nbformat": 4,
 "nbformat_minor": 2
}
